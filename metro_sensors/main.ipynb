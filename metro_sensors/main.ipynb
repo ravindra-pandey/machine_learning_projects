{
 "cells": [
  {
   "cell_type": "code",
   "execution_count": 1,
   "metadata": {},
   "outputs": [],
   "source": [
    "import requests, zipfile, io, os, datetime\n",
    "import numpy as np\n",
    "import pandas as pd\n",
    "import matplotlib.pyplot as plt\n",
    "import seaborn as sns"
   ]
  },
  {
   "attachments": {},
   "cell_type": "markdown",
   "metadata": {},
   "source": [
    "* Use this function to download the dataset directly form the link"
   ]
  },
  {
   "cell_type": "code",
   "execution_count": 2,
   "metadata": {},
   "outputs": [],
   "source": [
    "\n",
    "# def extract_data(url):\n",
    "#     response=requests.get(url)\n",
    "#     zfile=zipfile.ZipFile(io.BytesIO(response.content))\n",
    "#     try:\n",
    "#         os.mkdir(\"files\")\n",
    "#     except:\n",
    "#         pass\n",
    "#     zfile.extractall(\"files\")\n",
    "#     print(f\"Data extracted successfully\")\n",
    "# url=\"https://archive-beta.ics.uci.edu/static/public/791/metropt+3+dataset.zip\"\n",
    "# extract_data(url)"
   ]
  },
  {
   "cell_type": "code",
   "execution_count": 3,
   "metadata": {},
   "outputs": [],
   "source": [
    "data = pd.read_csv(\"files/MetroPT3(AirCompressor).csv\",index_col=[\"Unnamed: 0\"])"
   ]
  },
  {
   "attachments": {},
   "cell_type": "markdown",
   "metadata": {},
   "source": [
    "<p style=\"color:rgb(75,120,25); font-size:30px; font-family:monospace; font-weight:1000;\">Data Understanding</p>"
   ]
  },
  {
   "cell_type": "code",
   "execution_count": 4,
   "metadata": {},
   "outputs": [
    {
     "data": {
      "text/plain": [
       "(1516948, 16)"
      ]
     },
     "execution_count": 4,
     "metadata": {},
     "output_type": "execute_result"
    }
   ],
   "source": [
    "data.shape"
   ]
  },
  {
   "cell_type": "code",
   "execution_count": 5,
   "metadata": {},
   "outputs": [
    {
     "data": {
      "text/html": [
       "<div>\n",
       "<style scoped>\n",
       "    .dataframe tbody tr th:only-of-type {\n",
       "        vertical-align: middle;\n",
       "    }\n",
       "\n",
       "    .dataframe tbody tr th {\n",
       "        vertical-align: top;\n",
       "    }\n",
       "\n",
       "    .dataframe thead th {\n",
       "        text-align: right;\n",
       "    }\n",
       "</style>\n",
       "<table border=\"1\" class=\"dataframe\">\n",
       "  <thead>\n",
       "    <tr style=\"text-align: right;\">\n",
       "      <th></th>\n",
       "      <th>timestamp</th>\n",
       "      <th>TP2</th>\n",
       "      <th>TP3</th>\n",
       "      <th>H1</th>\n",
       "      <th>DV_pressure</th>\n",
       "      <th>Reservoirs</th>\n",
       "      <th>Oil_temperature</th>\n",
       "      <th>Motor_current</th>\n",
       "      <th>COMP</th>\n",
       "      <th>DV_eletric</th>\n",
       "      <th>Towers</th>\n",
       "      <th>MPG</th>\n",
       "      <th>LPS</th>\n",
       "      <th>Pressure_switch</th>\n",
       "      <th>Oil_level</th>\n",
       "      <th>Caudal_impulses</th>\n",
       "    </tr>\n",
       "  </thead>\n",
       "  <tbody>\n",
       "    <tr>\n",
       "      <th>12698020</th>\n",
       "      <td>2020-07-28 10:24:30</td>\n",
       "      <td>-0.012</td>\n",
       "      <td>8.688</td>\n",
       "      <td>8.676</td>\n",
       "      <td>-0.018</td>\n",
       "      <td>8.692</td>\n",
       "      <td>62.750</td>\n",
       "      <td>0.0400</td>\n",
       "      <td>1.0</td>\n",
       "      <td>0.0</td>\n",
       "      <td>1.0</td>\n",
       "      <td>1.0</td>\n",
       "      <td>0.0</td>\n",
       "      <td>1.0</td>\n",
       "      <td>1.0</td>\n",
       "      <td>1.0</td>\n",
       "    </tr>\n",
       "    <tr>\n",
       "      <th>3056600</th>\n",
       "      <td>2020-03-13 08:25:43</td>\n",
       "      <td>-0.016</td>\n",
       "      <td>9.856</td>\n",
       "      <td>9.846</td>\n",
       "      <td>-0.026</td>\n",
       "      <td>9.858</td>\n",
       "      <td>67.425</td>\n",
       "      <td>3.7025</td>\n",
       "      <td>1.0</td>\n",
       "      <td>0.0</td>\n",
       "      <td>1.0</td>\n",
       "      <td>1.0</td>\n",
       "      <td>0.0</td>\n",
       "      <td>1.0</td>\n",
       "      <td>1.0</td>\n",
       "      <td>1.0</td>\n",
       "    </tr>\n",
       "    <tr>\n",
       "      <th>7853460</th>\n",
       "      <td>2020-05-21 12:23:38</td>\n",
       "      <td>9.128</td>\n",
       "      <td>8.694</td>\n",
       "      <td>-0.014</td>\n",
       "      <td>-0.018</td>\n",
       "      <td>8.692</td>\n",
       "      <td>63.300</td>\n",
       "      <td>5.9050</td>\n",
       "      <td>0.0</td>\n",
       "      <td>1.0</td>\n",
       "      <td>1.0</td>\n",
       "      <td>0.0</td>\n",
       "      <td>0.0</td>\n",
       "      <td>1.0</td>\n",
       "      <td>1.0</td>\n",
       "      <td>1.0</td>\n",
       "    </tr>\n",
       "    <tr>\n",
       "      <th>10253320</th>\n",
       "      <td>2020-06-23 13:49:14</td>\n",
       "      <td>8.390</td>\n",
       "      <td>8.506</td>\n",
       "      <td>-0.014</td>\n",
       "      <td>-0.014</td>\n",
       "      <td>8.506</td>\n",
       "      <td>65.150</td>\n",
       "      <td>5.5750</td>\n",
       "      <td>0.0</td>\n",
       "      <td>1.0</td>\n",
       "      <td>1.0</td>\n",
       "      <td>0.0</td>\n",
       "      <td>0.0</td>\n",
       "      <td>1.0</td>\n",
       "      <td>1.0</td>\n",
       "      <td>1.0</td>\n",
       "    </tr>\n",
       "    <tr>\n",
       "      <th>8064600</th>\n",
       "      <td>2020-05-25 04:06:53</td>\n",
       "      <td>-0.012</td>\n",
       "      <td>9.352</td>\n",
       "      <td>9.342</td>\n",
       "      <td>-0.022</td>\n",
       "      <td>9.354</td>\n",
       "      <td>65.950</td>\n",
       "      <td>3.8375</td>\n",
       "      <td>1.0</td>\n",
       "      <td>0.0</td>\n",
       "      <td>1.0</td>\n",
       "      <td>1.0</td>\n",
       "      <td>0.0</td>\n",
       "      <td>1.0</td>\n",
       "      <td>1.0</td>\n",
       "      <td>1.0</td>\n",
       "    </tr>\n",
       "  </tbody>\n",
       "</table>\n",
       "</div>"
      ],
      "text/plain": [
       "                    timestamp    TP2    TP3     H1  DV_pressure  Reservoirs   \n",
       "12698020  2020-07-28 10:24:30 -0.012  8.688  8.676       -0.018       8.692  \\\n",
       "3056600   2020-03-13 08:25:43 -0.016  9.856  9.846       -0.026       9.858   \n",
       "7853460   2020-05-21 12:23:38  9.128  8.694 -0.014       -0.018       8.692   \n",
       "10253320  2020-06-23 13:49:14  8.390  8.506 -0.014       -0.014       8.506   \n",
       "8064600   2020-05-25 04:06:53 -0.012  9.352  9.342       -0.022       9.354   \n",
       "\n",
       "          Oil_temperature  Motor_current  COMP  DV_eletric  Towers  MPG  LPS   \n",
       "12698020           62.750         0.0400   1.0         0.0     1.0  1.0  0.0  \\\n",
       "3056600            67.425         3.7025   1.0         0.0     1.0  1.0  0.0   \n",
       "7853460            63.300         5.9050   0.0         1.0     1.0  0.0  0.0   \n",
       "10253320           65.150         5.5750   0.0         1.0     1.0  0.0  0.0   \n",
       "8064600            65.950         3.8375   1.0         0.0     1.0  1.0  0.0   \n",
       "\n",
       "          Pressure_switch  Oil_level  Caudal_impulses  \n",
       "12698020              1.0        1.0              1.0  \n",
       "3056600               1.0        1.0              1.0  \n",
       "7853460               1.0        1.0              1.0  \n",
       "10253320              1.0        1.0              1.0  \n",
       "8064600               1.0        1.0              1.0  "
      ]
     },
     "execution_count": 5,
     "metadata": {},
     "output_type": "execute_result"
    }
   ],
   "source": [
    "data.sample(5)"
   ]
  },
  {
   "cell_type": "code",
   "execution_count": 6,
   "metadata": {},
   "outputs": [
    {
     "data": {
      "text/plain": [
       "Index(['timestamp', 'TP2', 'TP3', 'H1', 'DV_pressure', 'Reservoirs',\n",
       "       'Oil_temperature', 'Motor_current', 'COMP', 'DV_eletric', 'Towers',\n",
       "       'MPG', 'LPS', 'Pressure_switch', 'Oil_level', 'Caudal_impulses'],\n",
       "      dtype='object')"
      ]
     },
     "execution_count": 6,
     "metadata": {},
     "output_type": "execute_result"
    }
   ],
   "source": [
    "data.columns"
   ]
  },
  {
   "cell_type": "code",
   "execution_count": 7,
   "metadata": {},
   "outputs": [
    {
     "name": "stdout",
     "output_type": "stream",
     "text": [
      "<class 'pandas.core.frame.DataFrame'>\n",
      "Index: 1516948 entries, 0 to 15169470\n",
      "Data columns (total 16 columns):\n",
      " #   Column           Non-Null Count    Dtype  \n",
      "---  ------           --------------    -----  \n",
      " 0   timestamp        1516948 non-null  object \n",
      " 1   TP2              1516948 non-null  float64\n",
      " 2   TP3              1516948 non-null  float64\n",
      " 3   H1               1516948 non-null  float64\n",
      " 4   DV_pressure      1516948 non-null  float64\n",
      " 5   Reservoirs       1516948 non-null  float64\n",
      " 6   Oil_temperature  1516948 non-null  float64\n",
      " 7   Motor_current    1516948 non-null  float64\n",
      " 8   COMP             1516948 non-null  float64\n",
      " 9   DV_eletric       1516948 non-null  float64\n",
      " 10  Towers           1516948 non-null  float64\n",
      " 11  MPG              1516948 non-null  float64\n",
      " 12  LPS              1516948 non-null  float64\n",
      " 13  Pressure_switch  1516948 non-null  float64\n",
      " 14  Oil_level        1516948 non-null  float64\n",
      " 15  Caudal_impulses  1516948 non-null  float64\n",
      "dtypes: float64(15), object(1)\n",
      "memory usage: 196.7+ MB\n"
     ]
    }
   ],
   "source": [
    "data.info()"
   ]
  },
  {
   "cell_type": "code",
   "execution_count": 8,
   "metadata": {},
   "outputs": [
    {
     "data": {
      "text/plain": [
       "timestamp          0\n",
       "TP2                0\n",
       "TP3                0\n",
       "H1                 0\n",
       "DV_pressure        0\n",
       "Reservoirs         0\n",
       "Oil_temperature    0\n",
       "Motor_current      0\n",
       "COMP               0\n",
       "DV_eletric         0\n",
       "Towers             0\n",
       "MPG                0\n",
       "LPS                0\n",
       "Pressure_switch    0\n",
       "Oil_level          0\n",
       "Caudal_impulses    0\n",
       "dtype: int64"
      ]
     },
     "execution_count": 8,
     "metadata": {},
     "output_type": "execute_result"
    }
   ],
   "source": [
    "data.isna().sum()"
   ]
  },
  {
   "cell_type": "code",
   "execution_count": 9,
   "metadata": {},
   "outputs": [
    {
     "data": {
      "text/html": [
       "<div>\n",
       "<style scoped>\n",
       "    .dataframe tbody tr th:only-of-type {\n",
       "        vertical-align: middle;\n",
       "    }\n",
       "\n",
       "    .dataframe tbody tr th {\n",
       "        vertical-align: top;\n",
       "    }\n",
       "\n",
       "    .dataframe thead th {\n",
       "        text-align: right;\n",
       "    }\n",
       "</style>\n",
       "<table border=\"1\" class=\"dataframe\">\n",
       "  <thead>\n",
       "    <tr style=\"text-align: right;\">\n",
       "      <th></th>\n",
       "      <th>TP2</th>\n",
       "      <th>TP3</th>\n",
       "      <th>H1</th>\n",
       "      <th>DV_pressure</th>\n",
       "      <th>Reservoirs</th>\n",
       "      <th>Oil_temperature</th>\n",
       "      <th>Motor_current</th>\n",
       "      <th>COMP</th>\n",
       "      <th>DV_eletric</th>\n",
       "      <th>Towers</th>\n",
       "      <th>MPG</th>\n",
       "      <th>LPS</th>\n",
       "      <th>Pressure_switch</th>\n",
       "      <th>Oil_level</th>\n",
       "      <th>Caudal_impulses</th>\n",
       "    </tr>\n",
       "  </thead>\n",
       "  <tbody>\n",
       "    <tr>\n",
       "      <th>count</th>\n",
       "      <td>1.516948e+06</td>\n",
       "      <td>1.516948e+06</td>\n",
       "      <td>1.516948e+06</td>\n",
       "      <td>1.516948e+06</td>\n",
       "      <td>1.516948e+06</td>\n",
       "      <td>1.516948e+06</td>\n",
       "      <td>1.516948e+06</td>\n",
       "      <td>1.516948e+06</td>\n",
       "      <td>1.516948e+06</td>\n",
       "      <td>1.516948e+06</td>\n",
       "      <td>1.516948e+06</td>\n",
       "      <td>1.516948e+06</td>\n",
       "      <td>1.516948e+06</td>\n",
       "      <td>1.516948e+06</td>\n",
       "      <td>1.516948e+06</td>\n",
       "    </tr>\n",
       "    <tr>\n",
       "      <th>mean</th>\n",
       "      <td>1.367826e+00</td>\n",
       "      <td>8.984611e+00</td>\n",
       "      <td>7.568155e+00</td>\n",
       "      <td>5.595619e-02</td>\n",
       "      <td>8.985233e+00</td>\n",
       "      <td>6.264418e+01</td>\n",
       "      <td>2.050171e+00</td>\n",
       "      <td>8.369568e-01</td>\n",
       "      <td>1.606106e-01</td>\n",
       "      <td>9.198483e-01</td>\n",
       "      <td>8.326640e-01</td>\n",
       "      <td>3.420025e-03</td>\n",
       "      <td>9.914368e-01</td>\n",
       "      <td>9.041556e-01</td>\n",
       "      <td>9.371066e-01</td>\n",
       "    </tr>\n",
       "    <tr>\n",
       "      <th>std</th>\n",
       "      <td>3.250930e+00</td>\n",
       "      <td>6.390951e-01</td>\n",
       "      <td>3.333200e+00</td>\n",
       "      <td>3.824015e-01</td>\n",
       "      <td>6.383070e-01</td>\n",
       "      <td>6.516261e+00</td>\n",
       "      <td>2.302053e+00</td>\n",
       "      <td>3.694052e-01</td>\n",
       "      <td>3.671716e-01</td>\n",
       "      <td>2.715280e-01</td>\n",
       "      <td>3.732757e-01</td>\n",
       "      <td>5.838091e-02</td>\n",
       "      <td>9.214078e-02</td>\n",
       "      <td>2.943779e-01</td>\n",
       "      <td>2.427712e-01</td>\n",
       "    </tr>\n",
       "    <tr>\n",
       "      <th>min</th>\n",
       "      <td>-3.200000e-02</td>\n",
       "      <td>7.300000e-01</td>\n",
       "      <td>-3.600000e-02</td>\n",
       "      <td>-3.200000e-02</td>\n",
       "      <td>7.120000e-01</td>\n",
       "      <td>1.540000e+01</td>\n",
       "      <td>2.000000e-02</td>\n",
       "      <td>0.000000e+00</td>\n",
       "      <td>0.000000e+00</td>\n",
       "      <td>0.000000e+00</td>\n",
       "      <td>0.000000e+00</td>\n",
       "      <td>0.000000e+00</td>\n",
       "      <td>0.000000e+00</td>\n",
       "      <td>0.000000e+00</td>\n",
       "      <td>0.000000e+00</td>\n",
       "    </tr>\n",
       "    <tr>\n",
       "      <th>25%</th>\n",
       "      <td>-1.400000e-02</td>\n",
       "      <td>8.492000e+00</td>\n",
       "      <td>8.254000e+00</td>\n",
       "      <td>-2.200000e-02</td>\n",
       "      <td>8.494000e+00</td>\n",
       "      <td>5.777500e+01</td>\n",
       "      <td>4.000000e-02</td>\n",
       "      <td>1.000000e+00</td>\n",
       "      <td>0.000000e+00</td>\n",
       "      <td>1.000000e+00</td>\n",
       "      <td>1.000000e+00</td>\n",
       "      <td>0.000000e+00</td>\n",
       "      <td>1.000000e+00</td>\n",
       "      <td>1.000000e+00</td>\n",
       "      <td>1.000000e+00</td>\n",
       "    </tr>\n",
       "    <tr>\n",
       "      <th>50%</th>\n",
       "      <td>-1.200000e-02</td>\n",
       "      <td>8.960000e+00</td>\n",
       "      <td>8.784000e+00</td>\n",
       "      <td>-2.000000e-02</td>\n",
       "      <td>8.960000e+00</td>\n",
       "      <td>6.270000e+01</td>\n",
       "      <td>4.500000e-02</td>\n",
       "      <td>1.000000e+00</td>\n",
       "      <td>0.000000e+00</td>\n",
       "      <td>1.000000e+00</td>\n",
       "      <td>1.000000e+00</td>\n",
       "      <td>0.000000e+00</td>\n",
       "      <td>1.000000e+00</td>\n",
       "      <td>1.000000e+00</td>\n",
       "      <td>1.000000e+00</td>\n",
       "    </tr>\n",
       "    <tr>\n",
       "      <th>75%</th>\n",
       "      <td>-1.000000e-02</td>\n",
       "      <td>9.492000e+00</td>\n",
       "      <td>9.374000e+00</td>\n",
       "      <td>-1.800000e-02</td>\n",
       "      <td>9.492000e+00</td>\n",
       "      <td>6.725000e+01</td>\n",
       "      <td>3.807500e+00</td>\n",
       "      <td>1.000000e+00</td>\n",
       "      <td>0.000000e+00</td>\n",
       "      <td>1.000000e+00</td>\n",
       "      <td>1.000000e+00</td>\n",
       "      <td>0.000000e+00</td>\n",
       "      <td>1.000000e+00</td>\n",
       "      <td>1.000000e+00</td>\n",
       "      <td>1.000000e+00</td>\n",
       "    </tr>\n",
       "    <tr>\n",
       "      <th>max</th>\n",
       "      <td>1.067600e+01</td>\n",
       "      <td>1.030200e+01</td>\n",
       "      <td>1.028800e+01</td>\n",
       "      <td>9.844000e+00</td>\n",
       "      <td>1.030000e+01</td>\n",
       "      <td>8.905000e+01</td>\n",
       "      <td>9.295000e+00</td>\n",
       "      <td>1.000000e+00</td>\n",
       "      <td>1.000000e+00</td>\n",
       "      <td>1.000000e+00</td>\n",
       "      <td>1.000000e+00</td>\n",
       "      <td>1.000000e+00</td>\n",
       "      <td>1.000000e+00</td>\n",
       "      <td>1.000000e+00</td>\n",
       "      <td>1.000000e+00</td>\n",
       "    </tr>\n",
       "  </tbody>\n",
       "</table>\n",
       "</div>"
      ],
      "text/plain": [
       "                TP2           TP3            H1   DV_pressure    Reservoirs   \n",
       "count  1.516948e+06  1.516948e+06  1.516948e+06  1.516948e+06  1.516948e+06  \\\n",
       "mean   1.367826e+00  8.984611e+00  7.568155e+00  5.595619e-02  8.985233e+00   \n",
       "std    3.250930e+00  6.390951e-01  3.333200e+00  3.824015e-01  6.383070e-01   \n",
       "min   -3.200000e-02  7.300000e-01 -3.600000e-02 -3.200000e-02  7.120000e-01   \n",
       "25%   -1.400000e-02  8.492000e+00  8.254000e+00 -2.200000e-02  8.494000e+00   \n",
       "50%   -1.200000e-02  8.960000e+00  8.784000e+00 -2.000000e-02  8.960000e+00   \n",
       "75%   -1.000000e-02  9.492000e+00  9.374000e+00 -1.800000e-02  9.492000e+00   \n",
       "max    1.067600e+01  1.030200e+01  1.028800e+01  9.844000e+00  1.030000e+01   \n",
       "\n",
       "       Oil_temperature  Motor_current          COMP    DV_eletric   \n",
       "count     1.516948e+06   1.516948e+06  1.516948e+06  1.516948e+06  \\\n",
       "mean      6.264418e+01   2.050171e+00  8.369568e-01  1.606106e-01   \n",
       "std       6.516261e+00   2.302053e+00  3.694052e-01  3.671716e-01   \n",
       "min       1.540000e+01   2.000000e-02  0.000000e+00  0.000000e+00   \n",
       "25%       5.777500e+01   4.000000e-02  1.000000e+00  0.000000e+00   \n",
       "50%       6.270000e+01   4.500000e-02  1.000000e+00  0.000000e+00   \n",
       "75%       6.725000e+01   3.807500e+00  1.000000e+00  0.000000e+00   \n",
       "max       8.905000e+01   9.295000e+00  1.000000e+00  1.000000e+00   \n",
       "\n",
       "             Towers           MPG           LPS  Pressure_switch   \n",
       "count  1.516948e+06  1.516948e+06  1.516948e+06     1.516948e+06  \\\n",
       "mean   9.198483e-01  8.326640e-01  3.420025e-03     9.914368e-01   \n",
       "std    2.715280e-01  3.732757e-01  5.838091e-02     9.214078e-02   \n",
       "min    0.000000e+00  0.000000e+00  0.000000e+00     0.000000e+00   \n",
       "25%    1.000000e+00  1.000000e+00  0.000000e+00     1.000000e+00   \n",
       "50%    1.000000e+00  1.000000e+00  0.000000e+00     1.000000e+00   \n",
       "75%    1.000000e+00  1.000000e+00  0.000000e+00     1.000000e+00   \n",
       "max    1.000000e+00  1.000000e+00  1.000000e+00     1.000000e+00   \n",
       "\n",
       "          Oil_level  Caudal_impulses  \n",
       "count  1.516948e+06     1.516948e+06  \n",
       "mean   9.041556e-01     9.371066e-01  \n",
       "std    2.943779e-01     2.427712e-01  \n",
       "min    0.000000e+00     0.000000e+00  \n",
       "25%    1.000000e+00     1.000000e+00  \n",
       "50%    1.000000e+00     1.000000e+00  \n",
       "75%    1.000000e+00     1.000000e+00  \n",
       "max    1.000000e+00     1.000000e+00  "
      ]
     },
     "execution_count": 9,
     "metadata": {},
     "output_type": "execute_result"
    }
   ],
   "source": [
    "data.describe()"
   ]
  },
  {
   "cell_type": "code",
   "execution_count": 10,
   "metadata": {},
   "outputs": [
    {
     "data": {
      "text/plain": [
       "<AxesSubplot: >"
      ]
     },
     "execution_count": 10,
     "metadata": {},
     "output_type": "execute_result"
    },
    {
     "data": {
      "image/png": "[encoded data removed]",
      "text/plain": [
       "<Figure size 640x480 with 2 Axes>"
      ]
     },
     "metadata": {},
     "output_type": "display_data"
    }
   ],
   "source": [
    "sns.heatmap(data.corr(numeric_only=True))"
   ]
  },
  {
   "attachments": {},
   "cell_type": "markdown",
   "metadata": {},
   "source": [
    "<p style=\"color:rgb(0,250,250); font-size:30px; font-family:monospace; font-weight:1000;\">Data preprocessing</p>"
   ]
  },
  {
   "cell_type": "code",
   "execution_count": 12,
   "metadata": {},
   "outputs": [],
   "source": [
    "data.set_index([\"timestamp\"],inplace=True)"
   ]
  },
  {
   "attachments": {},
   "cell_type": "markdown",
   "metadata": {},
   "source": [
    "<p style=\"color:rgb(175,0,25); font-size:30px; font-family:monospace; font-weight:1000;\">Data Visualisation</p>"
   ]
  },
  {
   "cell_type": "code",
   "execution_count": 13,
   "metadata": {},
   "outputs": [
    {
     "data": {
      "text/plain": [
       "Index(['TP2', 'TP3', 'H1', 'DV_pressure', 'Reservoirs', 'Oil_temperature',\n",
       "       'Motor_current', 'COMP', 'DV_eletric', 'Towers', 'MPG', 'LPS',\n",
       "       'Pressure_switch', 'Oil_level', 'Caudal_impulses'],\n",
       "      dtype='object')"
      ]
     },
     "execution_count": 13,
     "metadata": {},
     "output_type": "execute_result"
    }
   ],
   "source": [
    "data.columns"
   ]
  },
  {
   "cell_type": "code",
   "execution_count": 17,
   "metadata": {},
   "outputs": [
    {
     "data": {
      "text/plain": [
       "[<matplotlib.lines.Line2D at 0x282a9d5feb0>]"
      ]
     },
     "execution_count": 17,
     "metadata": {},
     "output_type": "execute_result"
    },
    {
     "data": {
      "image/png": "[encoded data removed]",
      "text/plain": [
       "<Figure size 640x480 with 1 Axes>"
      ]
     },
     "metadata": {},
     "output_type": "display_data"
    }
   ],
   "source": [
    "plt.plot(pd.to_datetime(data.index),data[\"TP2\"])"
   ]
  },
  {
   "attachments": {},
   "cell_type": "markdown",
   "metadata": {},
   "source": [
    "<p style=\"color:rgb(75,120,250); font-size:30px; font-family:monospace; font-weight:1000;\">Model Building</p>"
   ]
  },
  {
   "cell_type": "code",
   "execution_count": null,
   "metadata": {},
   "outputs": [],
   "source": []
  }
 ],
 "metadata": {
  "kernelspec": {
   "display_name": "Python 3",
   "language": "python",
   "name": "python3"
  },
  "language_info": {
   "codemirror_mode": {
    "name": "ipython",
    "version": 3
   },
   "file_extension": ".py",
   "mimetype": "text/x-python",
   "name": "python",
   "nbconvert_exporter": "python",
   "pygments_lexer": "ipython3",
   "version": "3.10.2"
  },
  "orig_nbformat": 4
 },
 "nbformat": 4,
 "nbformat_minor": 2
}
